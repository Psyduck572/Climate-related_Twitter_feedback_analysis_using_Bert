{
 "cells": [
  {
   "cell_type": "code",
   "execution_count": 47,
   "metadata": {},
   "outputs": [],
   "source": [
    "import tweepy as tw\n",
    " \n",
    "# API keyws that yous saved earlier\n",
    "api_key = \"TsaMFwKjENJWEYWlBZq9wbDu5\"\n",
    "api_secrets = \"wWYTZ3PGFUSf78pfE37am87aNXFKaUiJF2M3mzNTh5VzrJZyC8\"\n",
    "access_token = \"1316649170514534400-Rw1Os6fr08fT9PrRv8nWV6iTUlA5Q5\"\n",
    "access_secret = \"jmXskw4pZk47veN7RlyE1Jp9FM7RwYey8ZAjk29t89F7j\"\n",
    "# Authenticate to Twitter\n",
    "auth = tw.OAuthHandler(api_key, api_secrets)\n",
    "auth.set_access_token(access_token, access_secret)\n",
    "api = tw.API(auth, wait_on_rate_limit=True)\n",
    " "
   ]
  },
  {
   "cell_type": "code",
   "execution_count": 48,
   "metadata": {},
   "outputs": [],
   "source": [
    "import pandas as pd\n",
    "file=pd.read_csv('climate_id.txt.00')"
   ]
  },
  {
   "cell_type": "code",
   "execution_count": 49,
   "metadata": {},
   "outputs": [],
   "source": [
    "import numpy as np\n",
    "file=np.array(file)[:300]\n",
    "file2=[i[0] for i in file]"
   ]
  },
  {
   "cell_type": "code",
   "execution_count": 57,
   "metadata": {},
   "outputs": [
    {
     "data": {
      "text/plain": [
       "array([1028957353322762240])"
      ]
     },
     "execution_count": 57,
     "metadata": {},
     "output_type": "execute_result"
    }
   ],
   "source": [
    "file[0]"
   ]
  },
  {
   "cell_type": "code",
   "execution_count": 50,
   "metadata": {},
   "outputs": [],
   "source": [
    "data=pd.read_csv(\"data.csv\")"
   ]
  },
  {
   "cell_type": "code",
   "execution_count": 51,
   "metadata": {},
   "outputs": [],
   "source": [
    "Bearer_TOKEN=\"AAAAAAAAAAAAAAAAAAAAAC%2FNhwEAAAAAPIqkansDRbfAW1qZ2DRAbYDrHEY%3Dg8eEtJdMTI9ZICNo2Niqbfs68h8qr8qKvflXnu8M1bhW2DDSp1\"\n",
    "client = tw.Client(bearer_token=Bearer_TOKEN,access_token=access_token,access_token_secret=access_secret,consumer_key=api_key,consumer_secret=api_secrets)\n",
    "for i in file2:\n",
    "    if (client.get_tweets(i).data==None): continue\n",
    "    tweet=str(client.get_tweets(i).data[0])\n",
    "    num_of_likes=client.get_liking_users(i,user_auth=False).meta['result_count']\n",
    "    data=data.append({'tweet':tweet,'num_of_likes':num_of_likes},ignore_index=True)"
   ]
  },
  {
   "cell_type": "code",
   "execution_count": 58,
   "metadata": {},
   "outputs": [
    {
     "data": {
      "text/plain": [
       "'An eye-opening article. This further reinforces the need to switch to a more enviroment friendly lifestyle.\\n@EamonRyan thank you for sharing this! https://t.co/kZHZCOKCsR'"
      ]
     },
     "execution_count": 58,
     "metadata": {},
     "output_type": "execute_result"
    }
   ],
   "source": [
    "data.text.iloc[0]"
   ]
  },
  {
   "cell_type": "code",
   "execution_count": 41,
   "metadata": {},
   "outputs": [],
   "source": [
    "data.to_csv(\"data.csv\")"
   ]
  },
  {
   "cell_type": "code",
   "execution_count": 55,
   "metadata": {},
   "outputs": [],
   "source": [
    "data2=data.iloc[:,-2:]"
   ]
  },
  {
   "cell_type": "code",
   "execution_count": 44,
   "metadata": {},
   "outputs": [],
   "source": [
    "data2=data2.rename(columns={'tweet':'text','num_of_likes':'label'})"
   ]
  },
  {
   "cell_type": "code",
   "execution_count": 45,
   "metadata": {},
   "outputs": [],
   "source": [
    "data2['label'].values[data2['label'].values > 0] = 1"
   ]
  },
  {
   "cell_type": "code",
   "execution_count": 30,
   "metadata": {},
   "outputs": [],
   "source": [
    "data2.to_csv(\"data_final.csv\")"
   ]
  }
 ],
 "metadata": {
  "kernelspec": {
   "display_name": "Python 3.9.1 64-bit",
   "language": "python",
   "name": "python3"
  },
  "language_info": {
   "codemirror_mode": {
    "name": "ipython",
    "version": 3
   },
   "file_extension": ".py",
   "mimetype": "text/x-python",
   "name": "python",
   "nbconvert_exporter": "python",
   "pygments_lexer": "ipython3",
   "version": "3.9.1"
  },
  "orig_nbformat": 4,
  "vscode": {
   "interpreter": {
    "hash": "7812ea015bdcee6f23a998adcdd2ef97c151c0c241b7b7070987d9313e41299d"
   }
  }
 },
 "nbformat": 4,
 "nbformat_minor": 2
}
